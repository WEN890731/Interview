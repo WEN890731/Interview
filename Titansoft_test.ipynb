{
 "cells": [
  {
   "cell_type": "code",
   "execution_count": 70,
   "metadata": {
    "ExecuteTime": {
     "end_time": "2023-09-09T03:15:09.903283Z",
     "start_time": "2023-09-09T03:15:09.894009Z"
    }
   },
   "outputs": [],
   "source": [
    "import pandas as pd\n",
    "import numpy as np\n",
    "import matplotlib.pyplot as plt\n",
    "import seaborn as sns\n",
    "from scipy import stats\n",
    "import math"
   ]
  },
  {
   "cell_type": "markdown",
   "metadata": {},
   "source": [
    "# Recommender Systems"
   ]
  },
  {
   "cell_type": "markdown",
   "metadata": {},
   "source": [
    "## Import Data"
   ]
  },
  {
   "cell_type": "code",
   "execution_count": 83,
   "metadata": {
    "ExecuteTime": {
     "end_time": "2023-09-09T03:22:00.992002Z",
     "start_time": "2023-09-09T03:22:00.972699Z"
    }
   },
   "outputs": [],
   "source": [
    "date = ['2020-09-07','2020-09-08','2020-09-09','2020-09-10','2020-09-11','2020-09-12','2020-09-13']\n",
    "dataList = ['A',0.281,74,2448,68.8,'A',0.111,92,3232,35.72,'A',0.186,120,3948,73.29,'A',0.220,63,2207,48.45,'A',0.161,64,2155,34.68,'A',0.064,265,8484,54.29,'A',0.028,241,7857,22.37,'B',0.331,29,863,28.54,'B',0.136,25,800,10.88,'B',0.127,29,986,12.56,'B',0.114,19,593,6.79,'B',0.223,22,739,16.44,'B',0.055,42,1348,7.37,'B',0.013,53,1768,2.3]\n",
    "\n",
    "\n",
    "model = []\n",
    "margin = []\n",
    "customerCount = []\n",
    "salesAmount = []\n",
    "netAmount = []\n",
    "\n",
    "for i in range(0, len(dataList), 5):\n",
    "    model.append(dataList[i])\n",
    "    margin.append(dataList[i+1])\n",
    "    customerCount.append(dataList[i+2])\n",
    "    salesAmount.append(dataList[i+3])\n",
    "    netAmount.append(dataList[i+4])"
   ]
  },
  {
   "cell_type": "code",
   "execution_count": 141,
   "metadata": {
    "ExecuteTime": {
     "end_time": "2023-09-09T04:53:03.877685Z",
     "start_time": "2023-09-09T04:53:03.850691Z"
    }
   },
   "outputs": [
    {
     "data": {
      "text/html": [
       "<div>\n",
       "<style scoped>\n",
       "    .dataframe tbody tr th:only-of-type {\n",
       "        vertical-align: middle;\n",
       "    }\n",
       "\n",
       "    .dataframe tbody tr th {\n",
       "        vertical-align: top;\n",
       "    }\n",
       "\n",
       "    .dataframe thead th {\n",
       "        text-align: right;\n",
       "    }\n",
       "</style>\n",
       "<table border=\"1\" class=\"dataframe\">\n",
       "  <thead>\n",
       "    <tr style=\"text-align: right;\">\n",
       "      <th></th>\n",
       "      <th>date</th>\n",
       "      <th>by</th>\n",
       "      <th>margin</th>\n",
       "      <th>customer_Count</th>\n",
       "      <th>sales_Amount</th>\n",
       "      <th>net_Amount</th>\n",
       "      <th>avg_Amount</th>\n",
       "    </tr>\n",
       "  </thead>\n",
       "  <tbody>\n",
       "    <tr>\n",
       "      <th>0</th>\n",
       "      <td>2020-09-07</td>\n",
       "      <td>A</td>\n",
       "      <td>0.281</td>\n",
       "      <td>74</td>\n",
       "      <td>2448</td>\n",
       "      <td>68.80</td>\n",
       "      <td>35.58</td>\n",
       "    </tr>\n",
       "    <tr>\n",
       "      <th>1</th>\n",
       "      <td>2020-09-08</td>\n",
       "      <td>A</td>\n",
       "      <td>0.111</td>\n",
       "      <td>92</td>\n",
       "      <td>3232</td>\n",
       "      <td>35.72</td>\n",
       "      <td>90.48</td>\n",
       "    </tr>\n",
       "    <tr>\n",
       "      <th>2</th>\n",
       "      <td>2020-09-09</td>\n",
       "      <td>A</td>\n",
       "      <td>0.186</td>\n",
       "      <td>120</td>\n",
       "      <td>3948</td>\n",
       "      <td>73.29</td>\n",
       "      <td>53.87</td>\n",
       "    </tr>\n",
       "    <tr>\n",
       "      <th>3</th>\n",
       "      <td>2020-09-10</td>\n",
       "      <td>A</td>\n",
       "      <td>0.220</td>\n",
       "      <td>63</td>\n",
       "      <td>2207</td>\n",
       "      <td>48.45</td>\n",
       "      <td>45.55</td>\n",
       "    </tr>\n",
       "    <tr>\n",
       "      <th>4</th>\n",
       "      <td>2020-09-11</td>\n",
       "      <td>A</td>\n",
       "      <td>0.161</td>\n",
       "      <td>64</td>\n",
       "      <td>2155</td>\n",
       "      <td>34.68</td>\n",
       "      <td>62.14</td>\n",
       "    </tr>\n",
       "    <tr>\n",
       "      <th>5</th>\n",
       "      <td>2020-09-12</td>\n",
       "      <td>A</td>\n",
       "      <td>0.064</td>\n",
       "      <td>265</td>\n",
       "      <td>8484</td>\n",
       "      <td>54.29</td>\n",
       "      <td>156.27</td>\n",
       "    </tr>\n",
       "    <tr>\n",
       "      <th>6</th>\n",
       "      <td>2020-09-13</td>\n",
       "      <td>A</td>\n",
       "      <td>0.028</td>\n",
       "      <td>241</td>\n",
       "      <td>7857</td>\n",
       "      <td>22.37</td>\n",
       "      <td>351.23</td>\n",
       "    </tr>\n",
       "    <tr>\n",
       "      <th>7</th>\n",
       "      <td>2020-09-07</td>\n",
       "      <td>B</td>\n",
       "      <td>0.331</td>\n",
       "      <td>29</td>\n",
       "      <td>863</td>\n",
       "      <td>28.54</td>\n",
       "      <td>30.24</td>\n",
       "    </tr>\n",
       "    <tr>\n",
       "      <th>8</th>\n",
       "      <td>2020-09-08</td>\n",
       "      <td>B</td>\n",
       "      <td>0.136</td>\n",
       "      <td>25</td>\n",
       "      <td>800</td>\n",
       "      <td>10.88</td>\n",
       "      <td>73.53</td>\n",
       "    </tr>\n",
       "    <tr>\n",
       "      <th>9</th>\n",
       "      <td>2020-09-09</td>\n",
       "      <td>B</td>\n",
       "      <td>0.127</td>\n",
       "      <td>29</td>\n",
       "      <td>986</td>\n",
       "      <td>12.56</td>\n",
       "      <td>78.50</td>\n",
       "    </tr>\n",
       "    <tr>\n",
       "      <th>10</th>\n",
       "      <td>2020-09-10</td>\n",
       "      <td>B</td>\n",
       "      <td>0.114</td>\n",
       "      <td>19</td>\n",
       "      <td>593</td>\n",
       "      <td>6.79</td>\n",
       "      <td>87.33</td>\n",
       "    </tr>\n",
       "    <tr>\n",
       "      <th>11</th>\n",
       "      <td>2020-09-11</td>\n",
       "      <td>B</td>\n",
       "      <td>0.223</td>\n",
       "      <td>22</td>\n",
       "      <td>739</td>\n",
       "      <td>16.44</td>\n",
       "      <td>44.95</td>\n",
       "    </tr>\n",
       "    <tr>\n",
       "      <th>12</th>\n",
       "      <td>2020-09-12</td>\n",
       "      <td>B</td>\n",
       "      <td>0.055</td>\n",
       "      <td>42</td>\n",
       "      <td>1348</td>\n",
       "      <td>7.37</td>\n",
       "      <td>182.90</td>\n",
       "    </tr>\n",
       "    <tr>\n",
       "      <th>13</th>\n",
       "      <td>2020-09-13</td>\n",
       "      <td>B</td>\n",
       "      <td>0.013</td>\n",
       "      <td>53</td>\n",
       "      <td>1768</td>\n",
       "      <td>2.30</td>\n",
       "      <td>768.70</td>\n",
       "    </tr>\n",
       "  </tbody>\n",
       "</table>\n",
       "</div>"
      ],
      "text/plain": [
       "          date by  margin  customer_Count  sales_Amount  net_Amount  \\\n",
       "0   2020-09-07  A   0.281              74          2448       68.80   \n",
       "1   2020-09-08  A   0.111              92          3232       35.72   \n",
       "2   2020-09-09  A   0.186             120          3948       73.29   \n",
       "3   2020-09-10  A   0.220              63          2207       48.45   \n",
       "4   2020-09-11  A   0.161              64          2155       34.68   \n",
       "5   2020-09-12  A   0.064             265          8484       54.29   \n",
       "6   2020-09-13  A   0.028             241          7857       22.37   \n",
       "7   2020-09-07  B   0.331              29           863       28.54   \n",
       "8   2020-09-08  B   0.136              25           800       10.88   \n",
       "9   2020-09-09  B   0.127              29           986       12.56   \n",
       "10  2020-09-10  B   0.114              19           593        6.79   \n",
       "11  2020-09-11  B   0.223              22           739       16.44   \n",
       "12  2020-09-12  B   0.055              42          1348        7.37   \n",
       "13  2020-09-13  B   0.013              53          1768        2.30   \n",
       "\n",
       "    avg_Amount  \n",
       "0        35.58  \n",
       "1        90.48  \n",
       "2        53.87  \n",
       "3        45.55  \n",
       "4        62.14  \n",
       "5       156.27  \n",
       "6       351.23  \n",
       "7        30.24  \n",
       "8        73.53  \n",
       "9        78.50  \n",
       "10       87.33  \n",
       "11       44.95  \n",
       "12      182.90  \n",
       "13      768.70  "
      ]
     },
     "execution_count": 141,
     "metadata": {},
     "output_type": "execute_result"
    }
   ],
   "source": [
    "result_df = pd.DataFrame()\n",
    "result_df['date'] = date*2\n",
    "result_df['by'] = model\n",
    "result_df['margin'] = margin\n",
    "result_df['customer_Count'] = customerCount\n",
    "result_df['sales_Amount'] = salesAmount\n",
    "result_df['net_Amount'] = netAmount\n",
    "result_df['avg_Amount'] = [round(i, 2) for i in result_df.sales_Amount/result_df.net_Amount]\n",
    "\n",
    "result = result_df.copy()\n",
    "result"
   ]
  },
  {
   "cell_type": "code",
   "execution_count": 163,
   "metadata": {
    "ExecuteTime": {
     "end_time": "2023-09-09T05:46:42.849745Z",
     "start_time": "2023-09-09T05:46:42.828052Z"
    }
   },
   "outputs": [
    {
     "name": "stdout",
     "output_type": "stream",
     "text": [
      "總受試者共：1138人\n",
      "\n",
      "A組人均貢獻金額：33.0人\n",
      "B組人均貢獻金額：32.41人\n",
      "\n",
      "A組人均貢獻淨利：0.37人\n",
      "B組人均貢獻淨利：0.39人\n"
     ]
    }
   ],
   "source": [
    "print(\"總受試者共：\" + str(result.customer_Count.sum()) + \"人\")\n",
    "\n",
    "avg1 = result[result.by=='A'].sales_Amount.sum()/result[result.by=='A'].customer_Count.sum()\n",
    "avg2 = result[result.by=='B'].sales_Amount.sum()/result[result.by=='B'].customer_Count.sum()\n",
    "print(\"\\nA組人均貢獻金額：\" + str(round(avg1,2)) + \"人\")\n",
    "print(\"B組人均貢獻金額：\" + str(round(avg2,2))+ \"人\")\n",
    "\n",
    "\n",
    "avg1 = result[result.by=='A'].net_Amount.sum()/result[result.by=='A'].customer_Count.sum()\n",
    "avg2 = result[result.by=='B'].net_Amount.sum()/result[result.by=='B'].customer_Count.sum()\n",
    "print(\"\\nA組人均貢獻淨利：\" + str(round(avg1,2)) + \"人\")\n",
    "print(\"B組人均貢獻淨利：\" + str(round(avg2,2))+ \"人\")"
   ]
  },
  {
   "cell_type": "markdown",
   "metadata": {},
   "source": [
    "## Data Mining"
   ]
  },
  {
   "cell_type": "code",
   "execution_count": 151,
   "metadata": {
    "ExecuteTime": {
     "end_time": "2023-09-09T05:17:55.501644Z",
     "start_time": "2023-09-09T05:17:55.470061Z"
    }
   },
   "outputs": [
    {
     "name": "stdout",
     "output_type": "stream",
     "text": [
      "A組受試者共：919人\n"
     ]
    },
    {
     "data": {
      "text/html": [
       "<div>\n",
       "<style scoped>\n",
       "    .dataframe tbody tr th:only-of-type {\n",
       "        vertical-align: middle;\n",
       "    }\n",
       "\n",
       "    .dataframe tbody tr th {\n",
       "        vertical-align: top;\n",
       "    }\n",
       "\n",
       "    .dataframe thead th {\n",
       "        text-align: right;\n",
       "    }\n",
       "</style>\n",
       "<table border=\"1\" class=\"dataframe\">\n",
       "  <thead>\n",
       "    <tr style=\"text-align: right;\">\n",
       "      <th></th>\n",
       "      <th>margin</th>\n",
       "      <th>customer_Count</th>\n",
       "      <th>sales_Amount</th>\n",
       "      <th>net_Amount</th>\n",
       "      <th>avg_Amount</th>\n",
       "    </tr>\n",
       "  </thead>\n",
       "  <tbody>\n",
       "    <tr>\n",
       "      <th>count</th>\n",
       "      <td>7.000000</td>\n",
       "      <td>7.000000</td>\n",
       "      <td>7.000000</td>\n",
       "      <td>7.000000</td>\n",
       "      <td>7.000000</td>\n",
       "    </tr>\n",
       "    <tr>\n",
       "      <th>mean</th>\n",
       "      <td>0.150143</td>\n",
       "      <td>131.285714</td>\n",
       "      <td>4333.000000</td>\n",
       "      <td>48.228571</td>\n",
       "      <td>113.588571</td>\n",
       "    </tr>\n",
       "    <tr>\n",
       "      <th>std</th>\n",
       "      <td>0.088768</td>\n",
       "      <td>85.692696</td>\n",
       "      <td>2702.671148</td>\n",
       "      <td>18.693772</td>\n",
       "      <td>112.366222</td>\n",
       "    </tr>\n",
       "    <tr>\n",
       "      <th>min</th>\n",
       "      <td>0.028000</td>\n",
       "      <td>63.000000</td>\n",
       "      <td>2155.000000</td>\n",
       "      <td>22.370000</td>\n",
       "      <td>35.580000</td>\n",
       "    </tr>\n",
       "    <tr>\n",
       "      <th>25%</th>\n",
       "      <td>0.087500</td>\n",
       "      <td>69.000000</td>\n",
       "      <td>2327.500000</td>\n",
       "      <td>35.200000</td>\n",
       "      <td>49.710000</td>\n",
       "    </tr>\n",
       "    <tr>\n",
       "      <th>50%</th>\n",
       "      <td>0.161000</td>\n",
       "      <td>92.000000</td>\n",
       "      <td>3232.000000</td>\n",
       "      <td>48.450000</td>\n",
       "      <td>62.140000</td>\n",
       "    </tr>\n",
       "    <tr>\n",
       "      <th>75%</th>\n",
       "      <td>0.203000</td>\n",
       "      <td>180.500000</td>\n",
       "      <td>5902.500000</td>\n",
       "      <td>61.545000</td>\n",
       "      <td>123.375000</td>\n",
       "    </tr>\n",
       "    <tr>\n",
       "      <th>max</th>\n",
       "      <td>0.281000</td>\n",
       "      <td>265.000000</td>\n",
       "      <td>8484.000000</td>\n",
       "      <td>73.290000</td>\n",
       "      <td>351.230000</td>\n",
       "    </tr>\n",
       "  </tbody>\n",
       "</table>\n",
       "</div>"
      ],
      "text/plain": [
       "         margin  customer_Count  sales_Amount  net_Amount  avg_Amount\n",
       "count  7.000000        7.000000      7.000000    7.000000    7.000000\n",
       "mean   0.150143      131.285714   4333.000000   48.228571  113.588571\n",
       "std    0.088768       85.692696   2702.671148   18.693772  112.366222\n",
       "min    0.028000       63.000000   2155.000000   22.370000   35.580000\n",
       "25%    0.087500       69.000000   2327.500000   35.200000   49.710000\n",
       "50%    0.161000       92.000000   3232.000000   48.450000   62.140000\n",
       "75%    0.203000      180.500000   5902.500000   61.545000  123.375000\n",
       "max    0.281000      265.000000   8484.000000   73.290000  351.230000"
      ]
     },
     "execution_count": 151,
     "metadata": {},
     "output_type": "execute_result"
    }
   ],
   "source": [
    "print(\"A組受試者共：\" + str(result[result.by=='A'].customer_Count.sum()) + \"人\")\n",
    "result[result_df.by=='A'].describe()"
   ]
  },
  {
   "cell_type": "code",
   "execution_count": 152,
   "metadata": {
    "ExecuteTime": {
     "end_time": "2023-09-09T05:17:56.302935Z",
     "start_time": "2023-09-09T05:17:56.267967Z"
    }
   },
   "outputs": [
    {
     "name": "stdout",
     "output_type": "stream",
     "text": [
      "B組受試者共：219人\n"
     ]
    },
    {
     "data": {
      "text/html": [
       "<div>\n",
       "<style scoped>\n",
       "    .dataframe tbody tr th:only-of-type {\n",
       "        vertical-align: middle;\n",
       "    }\n",
       "\n",
       "    .dataframe tbody tr th {\n",
       "        vertical-align: top;\n",
       "    }\n",
       "\n",
       "    .dataframe thead th {\n",
       "        text-align: right;\n",
       "    }\n",
       "</style>\n",
       "<table border=\"1\" class=\"dataframe\">\n",
       "  <thead>\n",
       "    <tr style=\"text-align: right;\">\n",
       "      <th></th>\n",
       "      <th>margin</th>\n",
       "      <th>customer_Count</th>\n",
       "      <th>sales_Amount</th>\n",
       "      <th>net_Amount</th>\n",
       "      <th>avg_Amount</th>\n",
       "    </tr>\n",
       "  </thead>\n",
       "  <tbody>\n",
       "    <tr>\n",
       "      <th>count</th>\n",
       "      <td>7.000000</td>\n",
       "      <td>7.000000</td>\n",
       "      <td>7.000000</td>\n",
       "      <td>7.000000</td>\n",
       "      <td>7.000000</td>\n",
       "    </tr>\n",
       "    <tr>\n",
       "      <th>mean</th>\n",
       "      <td>0.142714</td>\n",
       "      <td>31.285714</td>\n",
       "      <td>1013.857143</td>\n",
       "      <td>12.125714</td>\n",
       "      <td>180.878571</td>\n",
       "    </tr>\n",
       "    <tr>\n",
       "      <th>std</th>\n",
       "      <td>0.106092</td>\n",
       "      <td>12.065299</td>\n",
       "      <td>408.721351</td>\n",
       "      <td>8.538282</td>\n",
       "      <td>263.774871</td>\n",
       "    </tr>\n",
       "    <tr>\n",
       "      <th>min</th>\n",
       "      <td>0.013000</td>\n",
       "      <td>19.000000</td>\n",
       "      <td>593.000000</td>\n",
       "      <td>2.300000</td>\n",
       "      <td>30.240000</td>\n",
       "    </tr>\n",
       "    <tr>\n",
       "      <th>25%</th>\n",
       "      <td>0.084500</td>\n",
       "      <td>23.500000</td>\n",
       "      <td>769.500000</td>\n",
       "      <td>7.080000</td>\n",
       "      <td>59.240000</td>\n",
       "    </tr>\n",
       "    <tr>\n",
       "      <th>50%</th>\n",
       "      <td>0.127000</td>\n",
       "      <td>29.000000</td>\n",
       "      <td>863.000000</td>\n",
       "      <td>10.880000</td>\n",
       "      <td>78.500000</td>\n",
       "    </tr>\n",
       "    <tr>\n",
       "      <th>75%</th>\n",
       "      <td>0.179500</td>\n",
       "      <td>35.500000</td>\n",
       "      <td>1167.000000</td>\n",
       "      <td>14.500000</td>\n",
       "      <td>135.115000</td>\n",
       "    </tr>\n",
       "    <tr>\n",
       "      <th>max</th>\n",
       "      <td>0.331000</td>\n",
       "      <td>53.000000</td>\n",
       "      <td>1768.000000</td>\n",
       "      <td>28.540000</td>\n",
       "      <td>768.700000</td>\n",
       "    </tr>\n",
       "  </tbody>\n",
       "</table>\n",
       "</div>"
      ],
      "text/plain": [
       "         margin  customer_Count  sales_Amount  net_Amount  avg_Amount\n",
       "count  7.000000        7.000000      7.000000    7.000000    7.000000\n",
       "mean   0.142714       31.285714   1013.857143   12.125714  180.878571\n",
       "std    0.106092       12.065299    408.721351    8.538282  263.774871\n",
       "min    0.013000       19.000000    593.000000    2.300000   30.240000\n",
       "25%    0.084500       23.500000    769.500000    7.080000   59.240000\n",
       "50%    0.127000       29.000000    863.000000   10.880000   78.500000\n",
       "75%    0.179500       35.500000   1167.000000   14.500000  135.115000\n",
       "max    0.331000       53.000000   1768.000000   28.540000  768.700000"
      ]
     },
     "execution_count": 152,
     "metadata": {},
     "output_type": "execute_result"
    }
   ],
   "source": [
    "print(\"B組受試者共：\" + str(result[result.by=='B'].customer_Count.sum()) + \"人\")\n",
    "result[result_df.by=='B'].describe()"
   ]
  },
  {
   "cell_type": "code",
   "execution_count": 149,
   "metadata": {
    "ExecuteTime": {
     "end_time": "2023-09-09T04:59:10.134540Z",
     "start_time": "2023-09-09T04:59:09.550057Z"
    }
   },
   "outputs": [
    {
     "data": {
      "image/png": "[encoded data removed]",
      "text/plain": [
       "<Figure size 800x400 with 1 Axes>"
      ]
     },
     "metadata": {},
     "output_type": "display_data"
    },
    {
     "data": {
      "image/png": "[encoded data removed]",
      "text/plain": [
       "<Figure size 800x400 with 1 Axes>"
      ]
     },
     "metadata": {},
     "output_type": "display_data"
    },
    {
     "data": {
      "image/png": "[encoded data removed]",
      "text/plain": [
       "<Figure size 800x400 with 1 Axes>"
      ]
     },
     "metadata": {},
     "output_type": "display_data"
    },
    {
     "data": {
      "image/png": "[encoded data removed]",
      "text/plain": [
       "<Figure size 800x400 with 1 Axes>"
      ]
     },
     "metadata": {},
     "output_type": "display_data"
    }
   ],
   "source": [
    "# margin\n",
    "sns.set(style=\"whitegrid\")\n",
    "\n",
    "plt.figure(figsize=(8, 4))\n",
    "\n",
    "sns.barplot(x='date', y='margin', hue='by', data=result)\n",
    "plt.title('Margin by Date')\n",
    "\n",
    "plt.show()\n",
    "\n",
    "sns.set(style=\"whitegrid\")\n",
    "\n",
    "# sales_Amount\n",
    "plt.figure(figsize=(8, 4)) \n",
    "\n",
    "sns.barplot(x='date', y='sales_Amount', hue='by', data=result)\n",
    "plt.title('Sales Amount by Date')\n",
    "\n",
    "plt.show()\n",
    "\n",
    "# net_Amount\n",
    "sns.set(style=\"whitegrid\")\n",
    "\n",
    "plt.figure(figsize=(8, 4))\n",
    "\n",
    "sns.barplot(x='date', y='net_Amount', hue='by', data=result)\n",
    "plt.title('Net Amount by Date')\n",
    "\n",
    "plt.show()\n",
    "\n",
    "# avg_Amount\n",
    "sns.set(style=\"whitegrid\")\n",
    "\n",
    "plt.figure(figsize=(8, 4))\n",
    "\n",
    "sns.barplot(x='date', y='avg_Amount', hue='by', data=result)\n",
    "plt.title('Avg. Amount by Date')\n",
    "\n",
    "plt.show()"
   ]
  },
  {
   "cell_type": "markdown",
   "metadata": {},
   "source": [
    "## Two Sample T-test for Margin"
   ]
  },
  {
   "cell_type": "code",
   "execution_count": 175,
   "metadata": {
    "ExecuteTime": {
     "end_time": "2023-09-09T07:13:19.049706Z",
     "start_time": "2023-09-09T07:13:19.035133Z"
    },
    "code_folding": [
     0,
     11,
     20
    ]
   },
   "outputs": [],
   "source": [
    "def get_data_of_t1(df, cat):\n",
    "    \n",
    "    A = df[df.by==cat].reset_index(drop = True)\n",
    "    \n",
    "    na_A = A.net_Amount.sum()\n",
    "    sa_A = A.sales_Amount.sum()\n",
    "    cc_A = A.customer_Count.sum()\n",
    "    margin_A = na_A/sa_A\n",
    "    \n",
    "    marList_A = []\n",
    "    mList = A.margin\n",
    "    for i in range(len(A)):\n",
    "        \n",
    "        l = [mList[i]] * A.customer_Count[i]\n",
    "        marList_A.extend(l)\n",
    "\n",
    "    var_A = np.var(marList_A, ddof=1)\n",
    "        \n",
    "    return margin_A, var_A, cc_A\n",
    "\n",
    "def two_sample_t_test1(df):\n",
    "\n",
    "    x1, v1, n1 = get_data_of_t1(df, 'A')\n",
    "    x2, v2, n2 = get_data_of_t1(df, 'B')\n",
    "    \n",
    "    t_stat, p_value = stats.ttest_ind_from_stats(mean1 = x1, \n",
    "                                                 std1 = np.sqrt(v1) , \n",
    "                                                 nobs1 = n1, \n",
    "                                                 mean2 = x2, \n",
    "                                                 std2 = np.sqrt(v2), \n",
    "                                                 nobs2 = n2, \n",
    "                                                 equal_var=False)\n",
    "\n",
    "    return t_stat, p_value"
   ]
  },
  {
   "cell_type": "code",
   "execution_count": 176,
   "metadata": {
    "ExecuteTime": {
     "end_time": "2023-09-09T07:13:19.849418Z",
     "start_time": "2023-09-09T07:13:19.834557Z"
    }
   },
   "outputs": [
    {
     "name": "stdout",
     "output_type": "stream",
     "text": [
      "t_stat為-0.1113，p_value為0.9115\n"
     ]
    }
   ],
   "source": [
    "t_stat, p_value = two_sample_t_test1(result)\n",
    "print(f't_stat為{round(t_stat,4)}，p_value為{round(p_value, 4)}')"
   ]
  },
  {
   "cell_type": "markdown",
   "metadata": {},
   "source": [
    "## Two Sample T-test for Avg. Amount"
   ]
  },
  {
   "cell_type": "code",
   "execution_count": 178,
   "metadata": {
    "ExecuteTime": {
     "end_time": "2023-09-09T07:13:43.664141Z",
     "start_time": "2023-09-09T07:13:43.648703Z"
    },
    "code_folding": [
     0,
     11,
     20
    ]
   },
   "outputs": [],
   "source": [
    "def get_data_of_t2(df, cat):\n",
    "    \n",
    "    A = df[df.by==cat].reset_index(drop = True)\n",
    "    \n",
    "    sa_A = A.sales_Amount.sum()\n",
    "    cc_A = A.customer_Count.sum()   \n",
    "    avgAmount_A = sa_A/cc_A\n",
    "    \n",
    "    amountList_A = []\n",
    "    aList = A.avg_Amount\n",
    "    \n",
    "    for i in range(len(A)):\n",
    "        \n",
    "        l = [aList[i]] * A.customer_Count[i]\n",
    "        amountList_A.extend(l)\n",
    "\n",
    "    var_A = np.var(amountList_A, ddof=1)\n",
    "        \n",
    "    return avgAmount_A, var_A, cc_A\n",
    "\n",
    "def two_sample_t_test2(df):\n",
    "\n",
    "    x1, v1, n1 = get_data_of_t2(df, 'A')\n",
    "    x2, v2, n2 = get_data_of_t2(df, 'B')\n",
    "    \n",
    "    t_stat, p_value = stats.ttest_ind_from_stats(mean1 = x1, \n",
    "                                                 std1 = np.sqrt(v1) , \n",
    "                                                 nobs1 = n1, \n",
    "                                                 mean2 = x2, \n",
    "                                                 std2 = np.sqrt(v2), \n",
    "                                                 nobs2 = n2, \n",
    "                                                 equal_var=False)\n",
    "\n",
    "    return t_stat, p_value"
   ]
  },
  {
   "cell_type": "code",
   "execution_count": 179,
   "metadata": {
    "ExecuteTime": {
     "end_time": "2023-09-09T07:13:44.003808Z",
     "start_time": "2023-09-09T07:13:43.987130Z"
    }
   },
   "outputs": [
    {
     "name": "stdout",
     "output_type": "stream",
     "text": [
      "t_stat為0.0295，p_value為0.9765\n"
     ]
    }
   ],
   "source": [
    "t_stat, p_value = two_sample_t_test2(result)\n",
    "print(f't_stat為{round(t_stat,4)}，p_value為{round(p_value, 4)}')"
   ]
  },
  {
   "cell_type": "markdown",
   "metadata": {},
   "source": [
    "# Recommender Systems"
   ]
  },
  {
   "cell_type": "markdown",
   "metadata": {},
   "source": [
    "## Import Data"
   ]
  },
  {
   "cell_type": "code",
   "execution_count": 215,
   "metadata": {
    "ExecuteTime": {
     "end_time": "2023-09-09T08:48:29.597586Z",
     "start_time": "2023-09-09T08:48:29.581996Z"
    }
   },
   "outputs": [],
   "source": [
    "dataList2 = [27,'Male',150,'FALSE','FALSE',47,'Female',300,'TRUE','TRUE',32,'Male',120,'FALSE','FALSE',24,'Male',450,'FALSE','TRUE',45,'Male',300,'TRUE','FALSE',56,'Male',320,'TRUE','TRUE',31,'Male',150,'FALSE','FALSE',23,'Female',300,'TRUE','FALSE',42,'Male',230,'FALSE','FALSE',32,'Female',420,'TRUE','TRUE']\n",
    "\n",
    "age = []\n",
    "gender = []\n",
    "annual_income = []\n",
    "married = []\n",
    "buy = []\n",
    "\n",
    "for i in range(0, len(dataList2), 5):\n",
    "    age.append(dataList2[i])\n",
    "    gender.append(dataList2[i+1])\n",
    "    annual_income.append(dataList2[i+2])\n",
    "    married.append(dataList2[i+3])\n",
    "    buy.append(dataList2[i+4])"
   ]
  },
  {
   "cell_type": "code",
   "execution_count": 249,
   "metadata": {
    "ExecuteTime": {
     "end_time": "2023-09-09T10:15:44.046457Z",
     "start_time": "2023-09-09T10:15:44.024336Z"
    }
   },
   "outputs": [
    {
     "data": {
      "text/html": [
       "<div>\n",
       "<style scoped>\n",
       "    .dataframe tbody tr th:only-of-type {\n",
       "        vertical-align: middle;\n",
       "    }\n",
       "\n",
       "    .dataframe tbody tr th {\n",
       "        vertical-align: top;\n",
       "    }\n",
       "\n",
       "    .dataframe thead th {\n",
       "        text-align: right;\n",
       "    }\n",
       "</style>\n",
       "<table border=\"1\" class=\"dataframe\">\n",
       "  <thead>\n",
       "    <tr style=\"text-align: right;\">\n",
       "      <th></th>\n",
       "      <th>age</th>\n",
       "      <th>gender</th>\n",
       "      <th>annual_income</th>\n",
       "      <th>married</th>\n",
       "      <th>buy</th>\n",
       "    </tr>\n",
       "  </thead>\n",
       "  <tbody>\n",
       "    <tr>\n",
       "      <th>0</th>\n",
       "      <td>27</td>\n",
       "      <td>1</td>\n",
       "      <td>150</td>\n",
       "      <td>0</td>\n",
       "      <td>0</td>\n",
       "    </tr>\n",
       "    <tr>\n",
       "      <th>1</th>\n",
       "      <td>47</td>\n",
       "      <td>0</td>\n",
       "      <td>300</td>\n",
       "      <td>1</td>\n",
       "      <td>1</td>\n",
       "    </tr>\n",
       "    <tr>\n",
       "      <th>2</th>\n",
       "      <td>32</td>\n",
       "      <td>1</td>\n",
       "      <td>120</td>\n",
       "      <td>0</td>\n",
       "      <td>0</td>\n",
       "    </tr>\n",
       "    <tr>\n",
       "      <th>3</th>\n",
       "      <td>24</td>\n",
       "      <td>1</td>\n",
       "      <td>450</td>\n",
       "      <td>0</td>\n",
       "      <td>1</td>\n",
       "    </tr>\n",
       "    <tr>\n",
       "      <th>4</th>\n",
       "      <td>45</td>\n",
       "      <td>1</td>\n",
       "      <td>300</td>\n",
       "      <td>1</td>\n",
       "      <td>0</td>\n",
       "    </tr>\n",
       "    <tr>\n",
       "      <th>5</th>\n",
       "      <td>56</td>\n",
       "      <td>1</td>\n",
       "      <td>320</td>\n",
       "      <td>1</td>\n",
       "      <td>1</td>\n",
       "    </tr>\n",
       "    <tr>\n",
       "      <th>6</th>\n",
       "      <td>31</td>\n",
       "      <td>1</td>\n",
       "      <td>150</td>\n",
       "      <td>0</td>\n",
       "      <td>0</td>\n",
       "    </tr>\n",
       "    <tr>\n",
       "      <th>7</th>\n",
       "      <td>23</td>\n",
       "      <td>0</td>\n",
       "      <td>300</td>\n",
       "      <td>1</td>\n",
       "      <td>0</td>\n",
       "    </tr>\n",
       "    <tr>\n",
       "      <th>8</th>\n",
       "      <td>42</td>\n",
       "      <td>1</td>\n",
       "      <td>230</td>\n",
       "      <td>0</td>\n",
       "      <td>0</td>\n",
       "    </tr>\n",
       "    <tr>\n",
       "      <th>9</th>\n",
       "      <td>32</td>\n",
       "      <td>0</td>\n",
       "      <td>420</td>\n",
       "      <td>1</td>\n",
       "      <td>1</td>\n",
       "    </tr>\n",
       "  </tbody>\n",
       "</table>\n",
       "</div>"
      ],
      "text/plain": [
       "   age  gender  annual_income  married  buy\n",
       "0   27       1            150        0    0\n",
       "1   47       0            300        1    1\n",
       "2   32       1            120        0    0\n",
       "3   24       1            450        0    1\n",
       "4   45       1            300        1    0\n",
       "5   56       1            320        1    1\n",
       "6   31       1            150        0    0\n",
       "7   23       0            300        1    0\n",
       "8   42       1            230        0    0\n",
       "9   32       0            420        1    1"
      ]
     },
     "execution_count": 249,
     "metadata": {},
     "output_type": "execute_result"
    }
   ],
   "source": [
    "result_df2 = pd.DataFrame()\n",
    "result_df2['age'] = age\n",
    "result_df2['gender'] = gender\n",
    "result_df2['annual_income'] = annual_income\n",
    "result_df2['married'] = married\n",
    "result_df2['buy'] = buy\n",
    "result_df2.replace({'FALSE':0, 'TRUE':1}, inplace=True)\n",
    "result_df2.replace({'Female':0, 'Male':1}, inplace=True)\n",
    "\n",
    "result2 = result_df2.copy()\n",
    "result2"
   ]
  },
  {
   "cell_type": "markdown",
   "metadata": {},
   "source": [
    "## Data Mining"
   ]
  },
  {
   "cell_type": "code",
   "execution_count": 250,
   "metadata": {
    "ExecuteTime": {
     "end_time": "2023-09-09T10:15:47.010736Z",
     "start_time": "2023-09-09T10:15:46.672362Z"
    }
   },
   "outputs": [
    {
     "data": {
      "image/png": "[encoded data removed]",
      "text/plain": [
       "<Figure size 400x400 with 1 Axes>"
      ]
     },
     "metadata": {},
     "output_type": "display_data"
    },
    {
     "data": {
      "image/png": "[encoded data removed]",
      "text/plain": [
       "<Figure size 400x400 with 1 Axes>"
      ]
     },
     "metadata": {},
     "output_type": "display_data"
    },
    {
     "data": {
      "image/png": "[encoded data removed]",
      "text/plain": [
       "<Figure size 400x400 with 1 Axes>"
      ]
     },
     "metadata": {},
     "output_type": "display_data"
    }
   ],
   "source": [
    "result2 #= result2[result2.gender==0].reset_index(drop = True)\n",
    "# Buy & Age\n",
    "plt.figure(figsize=(4, 4))\n",
    "sns.scatterplot(x='buy', y='age',hue='buy',data=result2, palette='Set1')\n",
    "\n",
    "plt.xticks([0, 1])\n",
    "plt.title('Buy & Age')\n",
    "plt.xlabel('Buy')\n",
    "plt.ylabel('Age')\n",
    "\n",
    "plt.show()\n",
    "\n",
    "# Buy & Annual Income\n",
    "plt.figure(figsize=(4, 4))\n",
    "sns.scatterplot(x='buy', y='annual_income', hue='buy', data=result2, palette='Set1')\n",
    "\n",
    "plt.xticks([0, 1])\n",
    "plt.title('Buy & Annual Income')\n",
    "plt.xlabel('Buy')\n",
    "plt.ylabel('Annual Income')\n",
    "\n",
    "plt.show()\n",
    "\n",
    "# Age & Annual Income\n",
    "plt.figure(figsize=(4, 4))\n",
    "sns.scatterplot(x = 'age', y='annual_income', data=result2)\n",
    "\n",
    "# 可以使用以下代碼調整 x 軸上的類別標籤的顯示角度\n",
    "\n",
    "plt.title('Age & Annual Income')\n",
    "plt.xlabel('Age')\n",
    "plt.ylabel('Annual Income')\n",
    "\n",
    "plt.show()"
   ]
  },
  {
   "cell_type": "code",
   "execution_count": 229,
   "metadata": {
    "ExecuteTime": {
     "end_time": "2023-09-09T09:05:34.753836Z",
     "start_time": "2023-09-09T09:05:34.739727Z"
    }
   },
   "outputs": [
    {
     "name": "stdout",
     "output_type": "stream",
     "text": [
      "[[1.         0.04456577]\n",
      " [0.04456577 1.        ]]\n"
     ]
    }
   ],
   "source": [
    "x_simple = np.array(result2.annual_income)\n",
    "y_simple = np.array(result2.age)\n",
    "my_rho = np.corrcoef(x_simple, y_simple)\n",
    "\n",
    "print(my_rho)"
   ]
  },
  {
   "cell_type": "code",
   "execution_count": 263,
   "metadata": {
    "ExecuteTime": {
     "end_time": "2023-09-09T12:32:51.825721Z",
     "start_time": "2023-09-09T12:32:51.805990Z"
    }
   },
   "outputs": [
    {
     "name": "stdout",
     "output_type": "stream",
     "text": [
      "\n",
      "收入大於等於300K------------------\n",
      "\n",
      "   age  gender  annual_income  married  buy\n",
      "0   47       0            300        1    1\n",
      "1   24       1            450        0    1\n",
      "2   45       1            300        1    0\n",
      "3   56       1            320        1    1\n",
      "4   23       0            300        1    0\n",
      "5   32       0            420        1    1\n",
      "\n",
      "收入大於等於300K＆有購買行為------------------\n",
      "\n",
      "   age  gender  annual_income  married  buy\n",
      "0   47       0            300        1    1\n",
      "1   24       1            450        0    1\n",
      "2   56       1            320        1    1\n",
      "3   32       0            420        1    1\n",
      "\n",
      "收入大於等於300K＆購買行為--------------------\n",
      "\n",
      "   age  gender  annual_income  married  buy\n",
      "0   45       1            300        1    0\n",
      "1   23       0            300        1    0\n"
     ]
    }
   ],
   "source": [
    "result2_1 = result2[result2.annual_income>=300].reset_index(drop = True)\n",
    "print('\\n收入大於等於300K------------------\\n')\n",
    "print(result2_1)\n",
    "print('\\n收入大於等於300K＆有購買行為------------------\\n')\n",
    "print(result2_1[result2_1.buy==1].reset_index(drop = True))\n",
    "print('\\n收入大於等於300K＆購買行為--------------------\\n')\n",
    "print(result2_1[result2_1.buy==0].reset_index(drop = True))"
   ]
  },
  {
   "cell_type": "code",
   "execution_count": 252,
   "metadata": {
    "ExecuteTime": {
     "end_time": "2023-09-09T10:32:41.402963Z",
     "start_time": "2023-09-09T10:32:41.051272Z"
    }
   },
   "outputs": [
    {
     "data": {
      "image/png": "[encoded data removed]",
      "text/plain": [
       "<Figure size 640x480 with 2 Axes>"
      ]
     },
     "metadata": {},
     "output_type": "display_data"
    },
    {
     "data": {
      "image/png": "[encoded data removed]",
      "text/plain": [
       "<Figure size 640x480 with 2 Axes>"
      ]
     },
     "metadata": {},
     "output_type": "display_data"
    },
    {
     "data": {
      "image/png": "[encoded data removed]",
      "text/plain": [
       "<Figure size 640x480 with 2 Axes>"
      ]
     },
     "metadata": {},
     "output_type": "display_data"
    }
   ],
   "source": [
    "# Buy & Gender\n",
    "cross_tab = pd.crosstab(result2['buy'], result2['gender'])\n",
    "\n",
    "sns.heatmap(cross_tab, annot=True, fmt='d', cmap='YlGnBu')\n",
    "plt.title('Buy & Gender')\n",
    "plt.show()\n",
    "\n",
    "# Buy & married\n",
    "cross_tab = pd.crosstab(result2['buy'], result2['married'])\n",
    "\n",
    "sns.heatmap(cross_tab, annot=True, fmt='d', cmap='YlGnBu')\n",
    "plt.title('Buy & married')\n",
    "plt.show()\n",
    "\n",
    "# Buy & married\n",
    "result2_2 = result2[result2.gender==1].reset_index(drop = True)\n",
    "cross_tab = pd.crosstab(result2_2['buy'], result2_2['married'])\n",
    "\n",
    "sns.heatmap(cross_tab, annot=True, fmt='d', cmap='YlGnBu')\n",
    "plt.title('Buy & married')\n",
    "plt.show()"
   ]
  },
  {
   "cell_type": "code",
   "execution_count": null,
   "metadata": {},
   "outputs": [],
   "source": []
  }
 ],
 "metadata": {
  "kernelspec": {
   "display_name": "Python 3",
   "language": "python",
   "name": "python3"
  },
  "language_info": {
   "codemirror_mode": {
    "name": "ipython",
    "version": 3
   },
   "file_extension": ".py",
   "mimetype": "text/x-python",
   "name": "python",
   "nbconvert_exporter": "python",
   "pygments_lexer": "ipython3",
   "version": "3.8.5"
  },
  "toc": {
   "base_numbering": 1,
   "nav_menu": {},
   "number_sections": true,
   "sideBar": true,
   "skip_h1_title": false,
   "title_cell": "Table of Contents",
   "title_sidebar": "Contents",
   "toc_cell": false,
   "toc_position": {
    "height": "calc(100% - 180px)",
    "left": "10px",
    "top": "150px",
    "width": "292.390625px"
   },
   "toc_section_display": true,
   "toc_window_display": true
  },
  "varInspector": {
   "cols": {
    "lenName": 16,
    "lenType": 16,
    "lenVar": 40
   },
   "kernels_config": {
    "python": {
     "delete_cmd_postfix": "",
     "delete_cmd_prefix": "del ",
     "library": "var_list.py",
     "varRefreshCmd": "print(var_dic_list())"
    },
    "r": {
     "delete_cmd_postfix": ") ",
     "delete_cmd_prefix": "rm(",
     "library": "var_list.r",
     "varRefreshCmd": "cat(var_dic_list()) "
    }
   },
   "types_to_exclude": [
    "module",
    "function",
    "builtin_function_or_method",
    "instance",
    "_Feature"
   ],
   "window_display": false
  }
 },
 "nbformat": 4,
 "nbformat_minor": 4
}
